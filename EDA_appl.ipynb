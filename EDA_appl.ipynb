{
  "nbformat": 4,
  "nbformat_minor": 0,
  "metadata": {
    "colab": {
      "name": "EDA_appl.ipynb",
      "provenance": [],
      "authorship_tag": "ABX9TyMMWFWd551IqXMxc6L5oPSs",
      "include_colab_link": true
    },
    "kernelspec": {
      "name": "python3",
      "display_name": "Python 3"
    },
    "language_info": {
      "name": "python"
    }
  },
  "cells": [
    {
      "cell_type": "markdown",
      "metadata": {
        "id": "view-in-github",
        "colab_type": "text"
      },
      "source": [
        "<a href=\"https://colab.research.google.com/github/Ayeshashaik804/appl_EDA/blob/main/EDA_appl.ipynb\" target=\"_parent\"><img src=\"https://colab.research.google.com/assets/colab-badge.svg\" alt=\"Open In Colab\"/></a>"
      ]
    },
    {
      "cell_type": "markdown",
      "metadata": {
        "id": "ag0kFFh6Y1Bq"
      },
      "source": [
        ""
      ]
    },
    {
      "cell_type": "markdown",
      "metadata": {
        "id": "x5N6LZysvdVG"
      },
      "source": [
        "This is a very basic tutorial for exploratory data analyis and data visualization using the 'reddit Data Set'\n",
        "\n",
        "The reddit data set is best known database for analysing covid data in america. Before moving to machine learning for pattern learning, we will perform EDA and visualize the data set.\n",
        "\n",
        "The data set consists of 1566 observations with 8 features - title,\tscore\t,id\t,url,\tcomms_num,\tcreated\t,body,\ttimestamp.\n",
        "\n",
        "We'll use two libraries for this tutorial: pandas, numpy, matplotlib, and seaborn."
      ]
    },
    {
      "cell_type": "code",
      "metadata": {
        "id": "1rvVukKpQuIP"
      },
      "source": [
        "# Import necessary libraries\n",
        "import pandas as pd\n",
        "import matplotlib.pyplot as plt\n",
        "import numpy as np\n",
        "import seaborn as sns\n",
        "\n",
        "import warnings # current version of seaborn generates a bunch of warnings that we'll ignore\n",
        "warnings.filterwarnings(\"ignore\")\n",
        "\n",
        "%matplotlib inline\n",
        "\n",
        "covid_data = pd.read_csv(\"reddit_vm (1).csv\")"
      ],
      "execution_count": 10,
      "outputs": []
    },
    {
      "cell_type": "code",
      "metadata": {
        "colab": {
          "base_uri": "https://localhost:8080/"
        },
        "id": "xd5N72ZEZDAl",
        "outputId": "36264f44-11f5-4190-ac6c-323553ff0dd8"
      },
      "source": [
        "covid_data.shape"
      ],
      "execution_count": 11,
      "outputs": [
        {
          "output_type": "execute_result",
          "data": {
            "text/plain": [
              "(1566, 8)"
            ]
          },
          "metadata": {},
          "execution_count": 11
        }
      ]
    },
    {
      "cell_type": "markdown",
      "metadata": {
        "id": "VbOgyPpzvJcY"
      },
      "source": [
        ".head() is used to print first five rows in the dataset"
      ]
    },
    {
      "cell_type": "code",
      "metadata": {
        "colab": {
          "base_uri": "https://localhost:8080/",
          "height": 285
        },
        "id": "0ne-NldwZVPY",
        "outputId": "0c71df11-b47e-431b-a681-229b4c9526fa"
      },
      "source": [
        "covid_data.head()"
      ],
      "execution_count": 12,
      "outputs": [
        {
          "output_type": "execute_result",
          "data": {
            "text/html": [
              "<div>\n",
              "<style scoped>\n",
              "    .dataframe tbody tr th:only-of-type {\n",
              "        vertical-align: middle;\n",
              "    }\n",
              "\n",
              "    .dataframe tbody tr th {\n",
              "        vertical-align: top;\n",
              "    }\n",
              "\n",
              "    .dataframe thead th {\n",
              "        text-align: right;\n",
              "    }\n",
              "</style>\n",
              "<table border=\"1\" class=\"dataframe\">\n",
              "  <thead>\n",
              "    <tr style=\"text-align: right;\">\n",
              "      <th></th>\n",
              "      <th>title</th>\n",
              "      <th>score</th>\n",
              "      <th>id</th>\n",
              "      <th>url</th>\n",
              "      <th>comms_num</th>\n",
              "      <th>created</th>\n",
              "      <th>body</th>\n",
              "      <th>timestamp</th>\n",
              "    </tr>\n",
              "  </thead>\n",
              "  <tbody>\n",
              "    <tr>\n",
              "      <th>0</th>\n",
              "      <td>Health Canada approves AstraZeneca COVID-19 va...</td>\n",
              "      <td>7</td>\n",
              "      <td>lt74vw</td>\n",
              "      <td>https://www.canadaforums.ca/2021/02/health-can...</td>\n",
              "      <td>0</td>\n",
              "      <td>1.614400e+09</td>\n",
              "      <td>NaN</td>\n",
              "      <td>2021-02-27 06:33:45</td>\n",
              "    </tr>\n",
              "    <tr>\n",
              "      <th>1</th>\n",
              "      <td>COVID-19 in Canada: 'Vaccination passports' a ...</td>\n",
              "      <td>2</td>\n",
              "      <td>lsh0ij</td>\n",
              "      <td>https://www.canadaforums.ca/2021/02/covid-19-i...</td>\n",
              "      <td>1</td>\n",
              "      <td>1.614316e+09</td>\n",
              "      <td>NaN</td>\n",
              "      <td>2021-02-26 07:11:07</td>\n",
              "    </tr>\n",
              "    <tr>\n",
              "      <th>2</th>\n",
              "      <td>Coronavirus variants could fuel Canada's third...</td>\n",
              "      <td>6</td>\n",
              "      <td>lohlle</td>\n",
              "      <td>https://www.canadaforums.ca/2021/02/coronaviru...</td>\n",
              "      <td>0</td>\n",
              "      <td>1.613887e+09</td>\n",
              "      <td>NaN</td>\n",
              "      <td>2021-02-21 07:50:08</td>\n",
              "    </tr>\n",
              "    <tr>\n",
              "      <th>3</th>\n",
              "      <td>Canadian government to extend COVID-19 emergen...</td>\n",
              "      <td>1</td>\n",
              "      <td>lnptv8</td>\n",
              "      <td>https://www.canadaforums.ca/2021/02/canadian-g...</td>\n",
              "      <td>0</td>\n",
              "      <td>1.613796e+09</td>\n",
              "      <td>NaN</td>\n",
              "      <td>2021-02-20 06:35:13</td>\n",
              "    </tr>\n",
              "    <tr>\n",
              "      <th>4</th>\n",
              "      <td>Canada: Pfizer is 'extremely committed' to mee...</td>\n",
              "      <td>6</td>\n",
              "      <td>lkslm6</td>\n",
              "      <td>https://www.canadaforums.ca/2021/02/canada-pfi...</td>\n",
              "      <td>0</td>\n",
              "      <td>1.613468e+09</td>\n",
              "      <td>NaN</td>\n",
              "      <td>2021-02-16 11:36:28</td>\n",
              "    </tr>\n",
              "  </tbody>\n",
              "</table>\n",
              "</div>"
            ],
            "text/plain": [
              "                                               title  ...            timestamp\n",
              "0  Health Canada approves AstraZeneca COVID-19 va...  ...  2021-02-27 06:33:45\n",
              "1  COVID-19 in Canada: 'Vaccination passports' a ...  ...  2021-02-26 07:11:07\n",
              "2  Coronavirus variants could fuel Canada's third...  ...  2021-02-21 07:50:08\n",
              "3  Canadian government to extend COVID-19 emergen...  ...  2021-02-20 06:35:13\n",
              "4  Canada: Pfizer is 'extremely committed' to mee...  ...  2021-02-16 11:36:28\n",
              "\n",
              "[5 rows x 8 columns]"
            ]
          },
          "metadata": {},
          "execution_count": 12
        }
      ]
    },
    {
      "cell_type": "markdown",
      "metadata": {
        "id": "66HEtKFwukH1"
      },
      "source": [
        ".unique() method is used to find no of unique items present in that specific column"
      ]
    },
    {
      "cell_type": "code",
      "metadata": {
        "colab": {
          "base_uri": "https://localhost:8080/"
        },
        "id": "jchqNgI8cOB_",
        "outputId": "ca4fd828-c51e-4ac5-f292-7ff7b24d4ea2"
      },
      "source": [
        "covid_data.comms_num.unique()"
      ],
      "execution_count": 42,
      "outputs": [
        {
          "output_type": "execute_result",
          "data": {
            "text/plain": [
              "array([  0,   1,   8,   6,   3,   4,   9,  12,   2,  19,   5,  10,  15,\n",
              "         7,  21,  11,  20,  22,  18,  49,  27,  32,  24,  16,  13,  31,\n",
              "        25, 166,  39,  17,  74,  34,  30,  46,  55, 596])"
            ]
          },
          "metadata": {},
          "execution_count": 42
        }
      ]
    },
    {
      "cell_type": "markdown",
      "metadata": {
        "id": "ApOE3IcXuVlX"
      },
      "source": [
        "Let's check if there in any inconsitency in the data set"
      ]
    },
    {
      "cell_type": "code",
      "metadata": {
        "colab": {
          "base_uri": "https://localhost:8080/"
        },
        "id": "25d53N7CcuAK",
        "outputId": "43aed734-d76b-404d-9d5a-772ae54d66d0"
      },
      "source": [
        "\n",
        "covid_data = covid_data.drop(\"body\", axis=1)\n",
        "covid_data.info()"
      ],
      "execution_count": 31,
      "outputs": [
        {
          "output_type": "stream",
          "text": [
            "<class 'pandas.core.frame.DataFrame'>\n",
            "RangeIndex: 1566 entries, 0 to 1565\n",
            "Data columns (total 4 columns):\n",
            " #   Column     Non-Null Count  Dtype  \n",
            "---  ------     --------------  -----  \n",
            " 0   url        461 non-null    object \n",
            " 1   comms_num  1566 non-null   int64  \n",
            " 2   created    1566 non-null   float64\n",
            " 3   timestamp  1566 non-null   object \n",
            "dtypes: float64(1), int64(1), object(2)\n",
            "memory usage: 49.1+ KB\n"
          ],
          "name": "stdout"
        }
      ]
    },
    {
      "cell_type": "markdown",
      "metadata": {
        "id": "KAisYJxdtzM_"
      },
      "source": [
        "let us see how many no of comms we have for each comms_nums"
      ]
    },
    {
      "cell_type": "code",
      "metadata": {
        "colab": {
          "base_uri": "https://localhost:8080/"
        },
        "id": "JwtywM8udLbW",
        "outputId": "f7591b34-e20e-45a3-caa1-165fe2785c45"
      },
      "source": [
        "covid_data[\"comms_num\"].value_counts()"
      ],
      "execution_count": 35,
      "outputs": [
        {
          "output_type": "execute_result",
          "data": {
            "text/plain": [
              "0      1153\n",
              "1       143\n",
              "2        76\n",
              "4        40\n",
              "3        38\n",
              "5        21\n",
              "6        11\n",
              "8         9\n",
              "7         8\n",
              "9         7\n",
              "11        7\n",
              "12        6\n",
              "15        5\n",
              "10        4\n",
              "32        3\n",
              "16        3\n",
              "22        3\n",
              "20        3\n",
              "13        3\n",
              "17        3\n",
              "18        2\n",
              "19        2\n",
              "24        2\n",
              "49        2\n",
              "166       1\n",
              "21        1\n",
              "25        1\n",
              "27        1\n",
              "30        1\n",
              "31        1\n",
              "34        1\n",
              "39        1\n",
              "46        1\n",
              "55        1\n",
              "74        1\n",
              "596       1\n",
              "Name: comms_num, dtype: int64"
            ]
          },
          "metadata": {},
          "execution_count": 35
        }
      ]
    },
    {
      "cell_type": "markdown",
      "metadata": {
        "id": "KvXl6j_fYxeu"
      },
      "source": [
        ""
      ]
    },
    {
      "cell_type": "markdown",
      "metadata": {
        "id": "w0g8W6SPtfou"
      },
      "source": [
        "We can also use the seaborn library to make a similar plot\n",
        " A seaborn jointplot shows bivariate scatterplots and univariate histograms in the same figure"
      ]
    },
    {
      "cell_type": "code",
      "metadata": {
        "colab": {
          "base_uri": "https://localhost:8080/",
          "height": 368
        },
        "id": "aqGTxSX1mErq",
        "outputId": "4730833d-870a-4e9e-8cd7-23d3cec662de"
      },
      "source": [
        "sns.jointplot(x=\"created\", y=\"comms_num\", data=covid_data, size=5)\n",
        "plt.show()"
      ],
      "execution_count": 50,
      "outputs": [
        {
          "output_type": "display_data",
          "data": {
            "image/png": "[encoded data removed]",
            "text/plain": [
              "<Figure size 360x360 with 3 Axes>"
            ]
          },
          "metadata": {
            "needs_background": "light"
          }
        }
      ]
    },
    {
      "cell_type": "markdown",
      "metadata": {
        "id": "aNJ3MeVTtI02"
      },
      "source": [
        "Let's see how are the comms_nums and created are distributed"
      ]
    },
    {
      "cell_type": "code",
      "metadata": {
        "colab": {
          "base_uri": "https://localhost:8080/",
          "height": 403
        },
        "id": "B16CcNM9YyVW",
        "outputId": "b1d4c52f-2264-4173-abb8-11bfbe9c9a50"
      },
      "source": [
        "covid_data.hist(edgecolor='black',bins = 25, figsize= (12,6))\n",
        "plt.show()"
      ],
      "execution_count": 56,
      "outputs": [
        {
          "output_type": "display_data",
          "data": {
            "image/png": "[encoded data removed]",
            "text/plain": [
              "<Figure size 864x432 with 2 Axes>"
            ]
          },
          "metadata": {
            "needs_background": "light"
          }
        }
      ]
    },
    {
      "cell_type": "markdown",
      "metadata": {
        "id": "tlz5P5hKsJtf"
      },
      "source": [
        " Another useful seaborn plot is the pairplot, which shows the bivariate relation between each pair of features\n",
        " From the pairplot, we'll see that the covid_data-comms_number variaton when plotted against creaated"
      ]
    },
    {
      "cell_type": "code",
      "metadata": {
        "colab": {
          "base_uri": "https://localhost:8080/",
          "height": 233
        },
        "id": "OgrLCySKpAGS",
        "outputId": "2d8ca814-5174-4f49-cb2d-930a2958c806"
      },
      "source": [
        "sns.pairplot(data = covid_data, hue=\"comms_num\", size=3)\n",
        "plt.show()"
      ],
      "execution_count": 57,
      "outputs": [
        {
          "output_type": "display_data",
          "data": {
            "image/png": "[encoded data removed]",
            "text/plain": [
              "<Figure size 287.375x216 with 2 Axes>"
            ]
          },
          "metadata": {
            "needs_background": "light"
          }
        }
      ]
    },
    {
      "cell_type": "markdown",
      "metadata": {
        "id": "nxFBfU9Eq9Mo"
      },
      "source": [
        "## Heat Map is used to find out the correlation between different features in the dataset. High positive or negative value shows that the features have high correlation.This helps us to select the parmeters for machine learning."
      ]
    },
    {
      "cell_type": "code",
      "metadata": {
        "colab": {
          "base_uri": "https://localhost:8080/",
          "height": 268
        },
        "id": "3Eev0pCxpf3B",
        "outputId": "347eb2d2-7b84-4eb9-96db-1eb0166aa321"
      },
      "source": [
        "# Plotting heat map\n",
        "sns.heatmap(covid_data.corr(), cmap=\"YlGnBu\", annot=True, fmt=\"f\")\n",
        "plt.show()"
      ],
      "execution_count": 58,
      "outputs": [
        {
          "output_type": "display_data",
          "data": {
            "image/png": "[encoded data removed]",
            "text/plain": [
              "<Figure size 432x288 with 2 Axes>"
            ]
          },
          "metadata": {
            "needs_background": "light"
          }
        }
      ]
    },
    {
      "cell_type": "markdown",
      "metadata": {
        "id": "IOH2Xe3nrMd7"
      },
      "source": [
        "# here heat map is drawn between comms_num vs comms_num,cteated vs comms_num, comms_num vs created, created vs created"
      ]
    },
    {
      "cell_type": "markdown",
      "metadata": {
        "id": "LVyzfhrnqdEk"
      },
      "source": [
        "## ***Statistical Exploratory Data Analysis***"
      ]
    },
    {
      "cell_type": "code",
      "metadata": {
        "colab": {
          "base_uri": "https://localhost:8080/",
          "height": 294
        },
        "id": "fKF7S7v_pv4b",
        "outputId": "cbb55cda-ea1d-48d7-f0f9-36f70aa12056"
      },
      "source": [
        "covid_data.describe()"
      ],
      "execution_count": 60,
      "outputs": [
        {
          "output_type": "execute_result",
          "data": {
            "text/html": [
              "<div>\n",
              "<style scoped>\n",
              "    .dataframe tbody tr th:only-of-type {\n",
              "        vertical-align: middle;\n",
              "    }\n",
              "\n",
              "    .dataframe tbody tr th {\n",
              "        vertical-align: top;\n",
              "    }\n",
              "\n",
              "    .dataframe thead th {\n",
              "        text-align: right;\n",
              "    }\n",
              "</style>\n",
              "<table border=\"1\" class=\"dataframe\">\n",
              "  <thead>\n",
              "    <tr style=\"text-align: right;\">\n",
              "      <th></th>\n",
              "      <th>comms_num</th>\n",
              "      <th>created</th>\n",
              "    </tr>\n",
              "  </thead>\n",
              "  <tbody>\n",
              "    <tr>\n",
              "      <th>count</th>\n",
              "      <td>1566.000000</td>\n",
              "      <td>1.566000e+03</td>\n",
              "    </tr>\n",
              "    <tr>\n",
              "      <th>mean</th>\n",
              "      <td>1.863985</td>\n",
              "      <td>1.545207e+09</td>\n",
              "    </tr>\n",
              "    <tr>\n",
              "      <th>std</th>\n",
              "      <td>16.315422</td>\n",
              "      <td>7.056694e+07</td>\n",
              "    </tr>\n",
              "    <tr>\n",
              "      <th>min</th>\n",
              "      <td>0.000000</td>\n",
              "      <td>1.389595e+09</td>\n",
              "    </tr>\n",
              "    <tr>\n",
              "      <th>25%</th>\n",
              "      <td>0.000000</td>\n",
              "      <td>1.554280e+09</td>\n",
              "    </tr>\n",
              "    <tr>\n",
              "      <th>50%</th>\n",
              "      <td>0.000000</td>\n",
              "      <td>1.569035e+09</td>\n",
              "    </tr>\n",
              "    <tr>\n",
              "      <th>75%</th>\n",
              "      <td>1.000000</td>\n",
              "      <td>1.582522e+09</td>\n",
              "    </tr>\n",
              "    <tr>\n",
              "      <th>max</th>\n",
              "      <td>596.000000</td>\n",
              "      <td>1.628718e+09</td>\n",
              "    </tr>\n",
              "  </tbody>\n",
              "</table>\n",
              "</div>"
            ],
            "text/plain": [
              "         comms_num       created\n",
              "count  1566.000000  1.566000e+03\n",
              "mean      1.863985  1.545207e+09\n",
              "std      16.315422  7.056694e+07\n",
              "min       0.000000  1.389595e+09\n",
              "25%       0.000000  1.554280e+09\n",
              "50%       0.000000  1.569035e+09\n",
              "75%       1.000000  1.582522e+09\n",
              "max     596.000000  1.628718e+09"
            ]
          },
          "metadata": {},
          "execution_count": 60
        }
      ]
    }
  ]
}